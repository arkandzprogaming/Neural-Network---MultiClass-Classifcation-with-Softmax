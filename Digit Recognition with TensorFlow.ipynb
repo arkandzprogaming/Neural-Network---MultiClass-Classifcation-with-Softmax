{
 "cells": [
  {
   "cell_type": "markdown",
   "id": "f94c818c-025c-4d5b-90a8-d1cd4ba1fd6c",
   "metadata": {},
   "source": [
    "# Handwritten Digit Recognition with Softmax Function on TensorFlow"
   ]
  },
  {
   "cell_type": "markdown",
   "id": "661e9988-6208-4ac0-a5f6-772af7e69139",
   "metadata": {},
   "source": [
    "We'll be using a subset of the MNIST dataset, that is, 1000 28x28-pixel images of handwritten digits (100 images of the digit 0, 100 images of the digit 1, and so on up to the digit 9). We'll use a fairly simple model of a Feedforward Neural Network, implementing the Softmax activation function on the units of the output layer and ReLU on the hidden layer(s)."
   ]
  },
  {
   "cell_type": "markdown",
   "id": "cbb85c66-a526-411b-aed2-7efe74d176d3",
   "metadata": {},
   "source": [
    "In this notebook, we will specifically utilize TensorFlow library to help building, compiling, and fitting the model into the data."
   ]
  },
  {
   "cell_type": "code",
   "execution_count": 1,
   "id": "11198d88-7088-4298-90c8-c85911e3c0d9",
   "metadata": {},
   "outputs": [],
   "source": [
    "import numpy as np\n",
    "import matplotlib.pyplot as plt\n",
    "import random\n",
    "import tensorflow as tf\n",
    "from tensorflow.keras.models import Sequential\n",
    "from tensorflow.keras.layers import Dense\n",
    "np.set_printoptions(precision=2)"
   ]
  },
  {
   "cell_type": "code",
   "execution_count": 2,
   "id": "3184a594-9137-4b70-9410-4fcc40b68f09",
   "metadata": {},
   "outputs": [],
   "source": [
    "import os \n",
    "os.environ['KMP_DUPLICATE_LIB_OK']='True'"
   ]
  },
  {
   "cell_type": "code",
   "execution_count": 3,
   "id": "2ceb91ec-3e56-4943-9cbe-46419d9b5b66",
   "metadata": {},
   "outputs": [],
   "source": [
    "X_train = np.loadtxt('train_X.csv', delimiter = ',')\n",
    "Y_train = np.loadtxt('train_label.csv', delimiter = ',')\n",
    "\n",
    "X_test = np.loadtxt('test_X.csv', delimiter = ',')\n",
    "Y_test = np.loadtxt('test_label.csv', delimiter = ',')"
   ]
  },
  {
   "cell_type": "markdown",
   "id": "38233a14-0821-4716-a65b-d856204971da",
   "metadata": {},
   "source": [
    "The shape of the feature and target matrices best remain in (m, n)."
   ]
  },
  {
   "cell_type": "code",
   "execution_count": 4,
   "id": "60ba2d7a-74c7-4b10-b5d4-620885084ed7",
   "metadata": {},
   "outputs": [
    {
     "name": "stdout",
     "output_type": "stream",
     "text": [
      "shape of X_train : (1000, 784)\n",
      "shape of Y_train : (1000, 10)\n",
      "shape of X_test : (350, 784)\n",
      "shape of Y_test : (350, 10)\n"
     ]
    }
   ],
   "source": [
    "print(\"shape of X_train :\", X_train.shape)\n",
    "print(\"shape of Y_train :\", Y_train.shape)\n",
    "print(\"shape of X_test :\", X_test.shape)\n",
    "print(\"shape of Y_test :\", Y_test.shape)"
   ]
  },
  {
   "cell_type": "code",
   "execution_count": 5,
   "id": "0117374e-063d-407b-b943-e5b0455c65eb",
   "metadata": {},
   "outputs": [
    {
     "data": {
      "image/png": "[encoded data removed]",
      "text/plain": [
       "<Figure size 640x480 with 1 Axes>"
      ]
     },
     "metadata": {},
     "output_type": "display_data"
    }
   ],
   "source": [
    "index = random.randrange(0, X_train.shape[0]) # Anywhere between 0 and the shape of first row (1000)\n",
    "plt.imshow(X_train[index].reshape(28, 28), cmap='gray')\n",
    "plt.show()"
   ]
  },
  {
   "cell_type": "markdown",
   "id": "6ca13256-6d31-4ea7-807a-8c3bfb7ccaa8",
   "metadata": {},
   "source": [
    "# Creating the Model"
   ]
  },
  {
   "cell_type": "markdown",
   "id": "2dd9caaf-581b-4191-a250-68ef5f55461b",
   "metadata": {},
   "source": [
    "We use the Keras Dense layer to construct the FFNN architecture of two layers. Note the activation function used in each layer."
   ]
  },
  {
   "cell_type": "code",
   "execution_count": 35,
   "id": "3411fd86-f068-4103-9736-849fd81c40cb",
   "metadata": {},
   "outputs": [],
   "source": [
    "tf.random.set_seed(1234)  # applied to achieve consistent results\n",
    "                          # we’ll get the same initial weights every time the code is run, \n",
    "                          # leading to the same model behavior and performance2.\n",
    "model = Sequential(\n",
    "    [\n",
    "        tf.keras.Input(shape=(784,)),\n",
    "        Dense(112, activation = 'relu',   name = \"L1\"),\n",
    "        Dense(10, activation = 'linear', name = \"L2\")\n",
    "    ], name = \"mnist-softmax\"\n",
    ")"
   ]
  },
  {
   "cell_type": "code",
   "execution_count": 36,
   "id": "df86a663-0286-4154-98d2-b60d10ec4578",
   "metadata": {},
   "outputs": [
    {
     "name": "stdout",
     "output_type": "stream",
     "text": [
      "Model: \"mnist-softmax\"\n",
      "_________________________________________________________________\n",
      " Layer (type)                Output Shape              Param #   \n",
      "=================================================================\n",
      " L1 (Dense)                  (None, 112)               87920     \n",
      "                                                                 \n",
      " L2 (Dense)                  (None, 10)                1130      \n",
      "                                                                 \n",
      "=================================================================\n",
      "Total params: 89,050\n",
      "Trainable params: 89,050\n",
      "Non-trainable params: 0\n",
      "_________________________________________________________________\n"
     ]
    }
   ],
   "source": [
    "model.summary()\n",
    "\n",
    "# Hidden layer (L1) : 784 * 32 individual weights + 32 biases (1 per unit) = 25120\n",
    "# Output layer (L2) : 32 * 10 individual weights + 10 biases (1 per unit) = 330"
   ]
  },
  {
   "cell_type": "markdown",
   "id": "fee92e82-6a47-4c6d-88cc-93c9d74b9d5d",
   "metadata": {},
   "source": [
    "Below is how the weights and biases look like before fitting."
   ]
  },
  {
   "cell_type": "code",
   "execution_count": 37,
   "id": "70a2cf91-44d5-4647-af67-07489dc29b6f",
   "metadata": {},
   "outputs": [
    {
     "name": "stdout",
     "output_type": "stream",
     "text": [
      "W1(784, 112):\n",
      " [[ 0.06  0.02 -0.06 ...  0.05 -0.03  0.07]\n",
      " [ 0.01  0.04  0.02 ...  0.07 -0.02 -0.  ]\n",
      " [-0.03  0.05 -0.   ...  0.06  0.02 -0.01]\n",
      " ...\n",
      " [ 0.08  0.03  0.07 ... -0.04 -0.04  0.04]\n",
      " [ 0.04 -0.08 -0.08 ...  0.06  0.04 -0.  ]\n",
      " [ 0.01 -0.03  0.07 ...  0.03 -0.01 -0.02]] \n",
      "b1(112,): [0. 0. 0. 0. 0. 0. 0. 0. 0. 0. 0. 0. 0. 0. 0. 0. 0. 0. 0. 0. 0. 0. 0. 0.\n",
      " 0. 0. 0. 0. 0. 0. 0. 0. 0. 0. 0. 0. 0. 0. 0. 0. 0. 0. 0. 0. 0. 0. 0. 0.\n",
      " 0. 0. 0. 0. 0. 0. 0. 0. 0. 0. 0. 0. 0. 0. 0. 0. 0. 0. 0. 0. 0. 0. 0. 0.\n",
      " 0. 0. 0. 0. 0. 0. 0. 0. 0. 0. 0. 0. 0. 0. 0. 0. 0. 0. 0. 0. 0. 0. 0. 0.\n",
      " 0. 0. 0. 0. 0. 0. 0. 0. 0. 0. 0. 0. 0. 0. 0. 0.]\n",
      "W2(112, 10):\n",
      " [[-0.21  0.   -0.03 ...  0.05  0.21  0.21]\n",
      " [-0.08 -0.12 -0.   ... -0.17  0.09 -0.12]\n",
      " [-0.06 -0.01 -0.19 ...  0.2  -0.09  0.17]\n",
      " ...\n",
      " [-0.19 -0.13 -0.21 ...  0.18  0.07 -0.04]\n",
      " [ 0.15  0.14  0.07 ...  0.08 -0.11  0.09]\n",
      " [ 0.03  0.06  0.11 ... -0.08 -0.11 -0.12]] \n",
      "b2(10,): [0. 0. 0. 0. 0. 0. 0. 0. 0. 0.]\n"
     ]
    }
   ],
   "source": [
    "# Keep in mind that W1 is the matrix of all weights in layer 1 (784, 32)\n",
    "# And that W2 is the matrix of all weights in layer 2 (32, 10)\n",
    "\n",
    "W1, b1 = model.get_layer(\"L1\").get_weights()\n",
    "W2, b2 = model.get_layer(\"L2\").get_weights()\n",
    "print(f\"W1{W1.shape}:\\n\", W1, f\"\\nb1{b1.shape}:\", b1)\n",
    "print(f\"W2{W2.shape}:\\n\", W2, f\"\\nb2{b2.shape}:\", b2)"
   ]
  },
  {
   "cell_type": "markdown",
   "id": "7548b16c-c7c4-4f26-890a-d51b45ba81a2",
   "metadata": {},
   "source": [
    "Intuitively, we can map the value of each weight array of 784 elements in W1 as a 28x28 pixel image, similar to the shape of each training example."
   ]
  },
  {
   "cell_type": "code",
   "execution_count": 38,
   "id": "d8a3aa27-1232-4f9c-b676-a1cb915e44ce",
   "metadata": {},
   "outputs": [
    {
     "data": {
      "image/png": "[encoded data removed]",
      "text/plain": [
       "<Figure size 640x480 with 1 Axes>"
      ]
     },
     "metadata": {},
     "output_type": "display_data"
    }
   ],
   "source": [
    "w1_image = W1[:, 0].reshape(28, 28)\n",
    "plt.imshow(w1_image, cmap='gray')\n",
    "plt.show()"
   ]
  },
  {
   "cell_type": "markdown",
   "id": "6ad30201-9c94-468c-9903-7ced6d5b7189",
   "metadata": {},
   "source": [
    "As expected, it's just a jumble of ... whatever that might be, since no fitting has yet to be done on the dataset."
   ]
  },
  {
   "cell_type": "markdown",
   "id": "2e0c73ae-38cc-43b0-8c36-2d4a91119972",
   "metadata": {},
   "source": [
    "# Training and Fitting the Model"
   ]
  },
  {
   "cell_type": "markdown",
   "id": "48257fd3-46c5-4658-8cf7-c512cf701ab6",
   "metadata": {},
   "source": [
    "The statements below compile and train the network. Setting `from_logits=True` as an argument to the loss function specifies that the output activation was linear rather than a softmax."
   ]
  },
  {
   "cell_type": "code",
   "execution_count": 39,
   "id": "c1d2b704-dacd-44bd-95e9-6e388b896aaf",
   "metadata": {},
   "outputs": [],
   "source": [
    "model.compile(\n",
    "    loss = tf.keras.losses.CategoricalCrossentropy(from_logits=True),\n",
    "    optimizer = tf.keras.optimizers.Adam(0.01),\n",
    ")"
   ]
  },
  {
   "cell_type": "code",
   "execution_count": 40,
   "id": "b9c9da2a-1de2-4d71-95a4-855abe52c0c1",
   "metadata": {},
   "outputs": [
    {
     "name": "stdout",
     "output_type": "stream",
     "text": [
      "Epoch 1/10\n",
      "32/32 [==============================] - 1s 3ms/step - loss: 119.3048\n",
      "Epoch 2/10\n",
      "32/32 [==============================] - 0s 10ms/step - loss: 3.2164\n",
      "Epoch 3/10\n",
      "32/32 [==============================] - 0s 3ms/step - loss: 1.3473\n",
      "Epoch 4/10\n",
      "32/32 [==============================] - 0s 3ms/step - loss: 1.1072\n",
      "Epoch 5/10\n",
      "32/32 [==============================] - 0s 3ms/step - loss: 0.9451\n",
      "Epoch 6/10\n",
      "32/32 [==============================] - 0s 3ms/step - loss: 0.8295\n",
      "Epoch 7/10\n",
      "32/32 [==============================] - 0s 6ms/step - loss: 0.8170\n",
      "Epoch 8/10\n",
      "32/32 [==============================] - 0s 4ms/step - loss: 0.8289\n",
      "Epoch 9/10\n",
      "32/32 [==============================] - 0s 3ms/step - loss: 0.7442\n",
      "Epoch 10/10\n",
      "32/32 [==============================] - 0s 7ms/step - loss: 0.8822\n"
     ]
    },
    {
     "data": {
      "text/plain": [
       "<keras.callbacks.History at 0x1617c3bdd50>"
      ]
     },
     "execution_count": 40,
     "metadata": {},
     "output_type": "execute_result"
    }
   ],
   "source": [
    "model.fit(\n",
    "    X_train, Y_train,\n",
    "    epochs = 10\n",
    ")"
   ]
  },
  {
   "cell_type": "markdown",
   "id": "e0f2ac0b-aeff-45a3-aa5c-3f91b14765b4",
   "metadata": {},
   "source": [
    "After fitting the model into the respective inputs and targets of the dataset, we can see how the weights and biases turned out to be."
   ]
  },
  {
   "cell_type": "code",
   "execution_count": 41,
   "id": "11851b46-9ad3-4ea7-ab31-cadf3cdfa5cc",
   "metadata": {},
   "outputs": [
    {
     "name": "stdout",
     "output_type": "stream",
     "text": [
      "W1(784, 112):\n",
      " [[ 0.06  0.02 -0.06 ...  0.05 -0.03  0.07]\n",
      " [ 0.01  0.04  0.02 ...  0.07 -0.02 -0.  ]\n",
      " [-0.03  0.05 -0.   ...  0.06  0.02 -0.01]\n",
      " ...\n",
      " [ 0.08  0.03  0.07 ... -0.04 -0.04  0.04]\n",
      " [ 0.04 -0.08 -0.08 ...  0.06  0.04 -0.  ]\n",
      " [ 0.01 -0.03  0.07 ...  0.03 -0.01 -0.02]] \n",
      "b1(112,): [-0.03 -0.06 -0.06 -0.05 -0.01 -0.06 -0.03 -0.02 -0.04 -0.06 -0.05 -0.06\n",
      " -0.04 -0.04 -0.06 -0.06 -0.05 -0.06 -0.04 -0.06 -0.01 -0.06 -0.06 -0.06\n",
      " -0.06 -0.06 -0.06 -0.05 -0.02 -0.03 -0.07 -0.05 -0.04 -0.02 -0.06 -0.06\n",
      " -0.06 -0.04 -0.05 -0.06 -0.06 -0.08 -0.09 -0.06 -0.01 -0.06 -0.06 -0.06\n",
      " -0.05 -0.06 -0.04 -0.05 -0.11 -0.06 -0.04 -0.01 -0.04 -0.04 -0.05 -0.05\n",
      " -0.   -0.   -0.06 -0.07 -0.04 -0.07 -0.03 -0.06 -0.05 -0.06 -0.05 -0.06\n",
      " -0.12 -0.06 -0.03 -0.05 -0.01 -0.06 -0.06 -0.03 -0.03 -0.06 -0.06 -0.04\n",
      " -0.06 -0.04 -0.06 -0.06 -0.03 -0.04 -0.04 -0.06 -0.13 -0.06 -0.04 -0.06\n",
      "  0.02 -0.06 -0.05 -0.06 -0.05 -0.03 -0.04 -0.06 -0.08 -0.06 -0.01 -0.03\n",
      " -0.01 -0.05 -0.06 -0.05]\n",
      "W2(112, 10):\n",
      " [[-0.22  0.1  -0.06 ... -0.01  0.2   0.33]\n",
      " [-0.08 -0.06 -0.   ... -0.17  0.09 -0.12]\n",
      " [ 0.    0.05 -0.13 ...  0.26 -0.09  0.23]\n",
      " ...\n",
      " [-0.12 -0.07 -0.17 ...  0.24  0.13  0.02]\n",
      " [ 0.21  0.14  0.13 ...  0.14 -0.11  0.09]\n",
      " [ 0.1   0.15  0.08 ... -0.05 -0.04 -0.04]] \n",
      "b2(10,): [-0.31 -0.66 -0.28 -0.38  0.92 -0.05 -0.64 -0.42  0.73  0.71]\n"
     ]
    }
   ],
   "source": [
    "W1, b1 = model.get_layer(\"L1\").get_weights()\n",
    "W2, b2 = model.get_layer(\"L2\").get_weights()\n",
    "print(f\"W1{W1.shape}:\\n\", W1, f\"\\nb1{b1.shape}:\", b1)\n",
    "print(f\"W2{W2.shape}:\\n\", W2, f\"\\nb2{b2.shape}:\", b2)"
   ]
  },
  {
   "cell_type": "code",
   "execution_count": 58,
   "id": "e6356cf6-cf5a-4aeb-bd4e-3b3306935cc8",
   "metadata": {},
   "outputs": [
    {
     "data": {
      "image/png": "[encoded data removed]",
      "text/plain": [
       "<Figure size 1000x500 with 2 Axes>"
      ]
     },
     "metadata": {},
     "output_type": "display_data"
    }
   ],
   "source": [
    "w1_image_fit = W1[:, 0].reshape(28, 28)\n",
    "plt.figure(figsize=(10, 5))  # Set the figure size\n",
    "\n",
    "plt.subplot(1, 2, 1)  # 1 row, 2 columns, index 1\n",
    "plt.imshow(w1_image, cmap='gray')\n",
    "plt.title('Before Fitting')\n",
    "\n",
    "plt.subplot(1, 2, 2)  # 1 row, 2 columns, index 2\n",
    "plt.imshow(w1_image_fit, cmap='gray')\n",
    "plt.title('After Fitting')\n",
    "\n",
    "plt.show()"
   ]
  },
  {
   "cell_type": "markdown",
   "id": "55b9a13f-e4d4-489a-8797-7f53d0816221",
   "metadata": {},
   "source": [
    "We can then predict on the X_test dataset. we first need to apply the Softmax activation function since the output layer uses a linear function. and thus does not represent the probability of each class."
   ]
  },
  {
   "cell_type": "code",
   "execution_count": 59,
   "id": "1e80bdba-c40a-4a74-8ab8-be4c30de601a",
   "metadata": {},
   "outputs": [
    {
     "data": {
      "image/png": "[encoded data removed]",
      "text/plain": [
       "<Figure size 640x480 with 1 Axes>"
      ]
     },
     "metadata": {},
     "output_type": "display_data"
    },
    {
     "name": "stdout",
     "output_type": "stream",
     "text": [
      "1/1 [==============================] - 0s 54ms/step\n",
      " Model probabilities: [[0.00e+00 8.67e-34 0.00e+00 1.00e+00 1.61e-37 5.69e-34 1.29e-43 1.54e-40\n",
      "  5.26e-20 0.00e+00]]\n",
      " Model prediction: 3\n",
      " Actual target value: 3\n"
     ]
    }
   ],
   "source": [
    "idx = int(random.randrange(0,X_test.shape[0]))\n",
    "plt.imshow(X_test[idx].reshape(28,28), cmap='gray')\n",
    "plt.show()\n",
    "\n",
    "label = np.argmax(Y_test[idx])\n",
    "\n",
    "\n",
    "# Apply Softmax function\n",
    "logits = model.predict(X_test[idx].reshape(1,784)) # TensorFlow only recognizes the shape of a tensor\n",
    "# probabilities = np.exp(logits) / np.sum(np.exp(logits))\n",
    "\n",
    "# We need to prevent numerical instability by ensuring that each logit has the value of 0 or negative\n",
    "max_logit = np.max(logits)\n",
    "shifted_logits = logits - max_logit\n",
    "probabilities = np.exp(shifted_logits) / np.sum(np.exp(shifted_logits))\n",
    "\n",
    "prediction = np.argmax(probabilities[0])\n",
    "\n",
    "print(f\" Model probabilities: {probabilities}\")\n",
    "print(f\" Model prediction: {prediction}\")\n",
    "print(f\" Actual target value: {label}\")"
   ]
  },
  {
   "cell_type": "code",
   "execution_count": null,
   "id": "b8173d8f-8e71-4631-9323-fa00d0315490",
   "metadata": {},
   "outputs": [],
   "source": []
  }
 ],
 "metadata": {
  "kernelspec": {
   "display_name": "Python 3 (ipykernel)",
   "language": "python",
   "name": "python3"
  },
  "language_info": {
   "codemirror_mode": {
    "name": "ipython",
    "version": 3
   },
   "file_extension": ".py",
   "mimetype": "text/x-python",
   "name": "python",
   "nbconvert_exporter": "python",
   "pygments_lexer": "ipython3",
   "version": "3.10.13"
  }
 },
 "nbformat": 4,
 "nbformat_minor": 5
}
